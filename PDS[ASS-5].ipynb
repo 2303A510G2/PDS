{
  "nbformat": 4,
  "nbformat_minor": 0,
  "metadata": {
    "colab": {
      "provenance": [],
      "authorship_tag": "ABX9TyNdrAw0a0NmK/OkrARlzWQB",
      "include_colab_link": true
    },
    "kernelspec": {
      "name": "python3",
      "display_name": "Python 3"
    },
    "language_info": {
      "name": "python"
    }
  },
  "cells": [
    {
      "cell_type": "markdown",
      "metadata": {
        "id": "view-in-github",
        "colab_type": "text"
      },
      "source": [
        "<a href=\"https://colab.research.google.com/github/2303A510G2/PDS/blob/main/PDS%5BASS-5%5D.ipynb\" target=\"_parent\"><img src=\"https://colab.research.google.com/assets/colab-badge.svg\" alt=\"Open In Colab\"/></a>"
      ]
    },
    {
      "cell_type": "markdown",
      "source": [
        "# **CH.UDAY**\n",
        "# **2303A510G2**"
      ],
      "metadata": {
        "id": "bseXmXsbFQGG"
      }
    },
    {
      "cell_type": "code",
      "execution_count": 1,
      "metadata": {
        "id": "EJQZn1XaFNyR"
      },
      "outputs": [],
      "source": [
        "import pandas as pd\n",
        "\n",
        "products = pd.DataFrame({\n",
        "    'product_id': [101, 102, 103, 104, 105],\n",
        "    'product_name': ['Laptop', 'Mouse', 'Keyboard', 'Monitor', 'Headphones'],\n",
        "    'category': ['Electronics', 'Accessories', 'Accessories', 'Electronics', 'Accessories'],\n",
        "    'price': [60000, 800, 1500, 12000, 2500]\n",
        "})"
      ]
    },
    {
      "cell_type": "code",
      "source": [
        "sales = pd.DataFrame({\n",
        "    'sale_id': [1, 2, 3, 4, 5, 6, 7],\n",
        "    'product_id': [101, 102, 103, 104, 101, 105, 102],\n",
        "    'quantity': [2, 5, 3, 1, 1, 4, 2]\n",
        "})"
      ],
      "metadata": {
        "id": "EHaFsJMtFYi0"
      },
      "execution_count": 2,
      "outputs": []
    },
    {
      "cell_type": "code",
      "source": [
        "merged_inner = pd.merge(sales, products, on='product_id', how='inner')\n",
        "merged_outer = pd.merge(sales, products, on='product_id', how='outer')"
      ],
      "metadata": {
        "id": "dJUKvbHLFYle"
      },
      "execution_count": 3,
      "outputs": []
    },
    {
      "cell_type": "code",
      "source": [
        "merged_inner['revenue'] = merged_inner['quantity'] * merged_inner['price']\n",
        "total_revenue = merged_inner['revenue'].sum()\n",
        "avg_price = merged_inner['price'].mean()\n",
        "product_sales = merged_inner.groupby('product_name')['revenue'].sum().reset_index()\n",
        "category_sales = merged_inner.groupby('category')['revenue'].sum().reset_index()\n",
        "best_category = category_sales.loc[category_sales['revenue'].idxmax()]"
      ],
      "metadata": {
        "id": "MRGc3Bm-FYoF"
      },
      "execution_count": 4,
      "outputs": []
    },
    {
      "cell_type": "code",
      "source": [
        "print(\"Products Dataset:\\n\", products, \"\\n\")\n",
        "print(\"Sales Dataset:\\n\", sales, \"\\n\")\n",
        "print(\"Merged Dataset (Inner Join):\\n\", merged_inner, \"\\n\")\n",
        "print(\"Merged Dataset (Outer Join):\\n\", merged_outer, \"\\n\")\n",
        "print(\"Total Revenue:\", total_revenue)\n",
        "print(\"Average Product Price:\", avg_price, \"\\n\")\n",
        "print(\"Product-wise Revenue:\\n\", product_sales, \"\\n\")\n",
        "print(\"Category-wise Revenue:\\n\", category_sales, \"\\n\")\n",
        "print(\"Best-Selling Category:\\n\", best_category, \"\\n\")\n",
        "print(\"Key Insights:\")\n",
        "print(f\"- The total revenue generated is ₹{total_revenue}.\")\n",
        "print(f\"- The average product price is ₹{avg_price:.2f}.\")\n",
        "print(f\"- The best-selling category is '{best_category['category']}' with revenue ₹{best_category['revenue']}.\")"
      ],
      "metadata": {
        "colab": {
          "base_uri": "https://localhost:8080/"
        },
        "id": "KfwfNRx0FYqv",
        "outputId": "7e54d54b-8c45-487a-af2c-0d1bf15d23f5"
      },
      "execution_count": 5,
      "outputs": [
        {
          "output_type": "stream",
          "name": "stdout",
          "text": [
            "Products Dataset:\n",
            "    product_id product_name     category  price\n",
            "0         101       Laptop  Electronics  60000\n",
            "1         102        Mouse  Accessories    800\n",
            "2         103     Keyboard  Accessories   1500\n",
            "3         104      Monitor  Electronics  12000\n",
            "4         105   Headphones  Accessories   2500 \n",
            "\n",
            "Sales Dataset:\n",
            "    sale_id  product_id  quantity\n",
            "0        1         101         2\n",
            "1        2         102         5\n",
            "2        3         103         3\n",
            "3        4         104         1\n",
            "4        5         101         1\n",
            "5        6         105         4\n",
            "6        7         102         2 \n",
            "\n",
            "Merged Dataset (Inner Join):\n",
            "    sale_id  product_id  quantity product_name     category  price  revenue\n",
            "0        1         101         2       Laptop  Electronics  60000   120000\n",
            "1        2         102         5        Mouse  Accessories    800     4000\n",
            "2        3         103         3     Keyboard  Accessories   1500     4500\n",
            "3        4         104         1      Monitor  Electronics  12000    12000\n",
            "4        5         101         1       Laptop  Electronics  60000    60000\n",
            "5        6         105         4   Headphones  Accessories   2500    10000\n",
            "6        7         102         2        Mouse  Accessories    800     1600 \n",
            "\n",
            "Merged Dataset (Outer Join):\n",
            "    sale_id  product_id  quantity product_name     category  price\n",
            "0        1         101         2       Laptop  Electronics  60000\n",
            "1        5         101         1       Laptop  Electronics  60000\n",
            "2        2         102         5        Mouse  Accessories    800\n",
            "3        7         102         2        Mouse  Accessories    800\n",
            "4        3         103         3     Keyboard  Accessories   1500\n",
            "5        4         104         1      Monitor  Electronics  12000\n",
            "6        6         105         4   Headphones  Accessories   2500 \n",
            "\n",
            "Total Revenue: 212100\n",
            "Average Product Price: 19657.14285714286 \n",
            "\n",
            "Product-wise Revenue:\n",
            "   product_name  revenue\n",
            "0   Headphones    10000\n",
            "1     Keyboard     4500\n",
            "2       Laptop   180000\n",
            "3      Monitor    12000\n",
            "4        Mouse     5600 \n",
            "\n",
            "Category-wise Revenue:\n",
            "       category  revenue\n",
            "0  Accessories    20100\n",
            "1  Electronics   192000 \n",
            "\n",
            "Best-Selling Category:\n",
            " category    Electronics\n",
            "revenue          192000\n",
            "Name: 1, dtype: object \n",
            "\n",
            "Key Insights:\n",
            "- The total revenue generated is ₹212100.\n",
            "- The average product price is ₹19657.14.\n",
            "- The best-selling category is 'Electronics' with revenue ₹192000.\n"
          ]
        }
      ]
    },
    {
      "cell_type": "code",
      "source": [
        "import pandas as pd\n",
        "\n",
        "teachers = pd.DataFrame({\n",
        "    'teacher_id': [1, 2, 3, 4],\n",
        "    'teacher_name': ['Alice', 'Bob', 'Charlie', 'David'],\n",
        "    'department': ['Computer Science', 'Mathematics', 'Physics', 'Computer Science']\n",
        "})"
      ],
      "metadata": {
        "id": "tUMIG16_Fe5K"
      },
      "execution_count": 6,
      "outputs": []
    },
    {
      "cell_type": "code",
      "source": [
        "courses = pd.DataFrame({\n",
        "    'course_id': [101, 102, 103, 104, 105, 106],\n",
        "    'course_name': ['AI', 'Data Structures', 'Algebra', 'Quantum Mechanics', 'ML', 'Calculus'],\n",
        "    'teacher_id': [1, 1, 2, 3, 1, 2]\n",
        "})"
      ],
      "metadata": {
        "id": "DrvSHbagFe-4"
      },
      "execution_count": 7,
      "outputs": []
    },
    {
      "cell_type": "code",
      "source": [
        "merged_inner = pd.merge(courses, teachers, on='teacher_id', how='inner')\n",
        "merged_left = pd.merge(courses, teachers, on='teacher_id', how='left')"
      ],
      "metadata": {
        "id": "KshHb_UrFYsl"
      },
      "execution_count": 8,
      "outputs": []
    },
    {
      "cell_type": "code",
      "source": [
        "avg_courses_per_teacher = merged_inner.groupby('teacher_id')['course_id'].count().mean()\n",
        "dept_workload = merged_inner.groupby('department')['course_id'].count().reset_index()\n",
        "best_department = dept_workload.loc[dept_workload['course_id'].idxmax()]\n"
      ],
      "metadata": {
        "id": "u-rQDPgNFnad"
      },
      "execution_count": 9,
      "outputs": []
    },
    {
      "cell_type": "code",
      "source": [
        "print(\"Teachers Dataset:\\n\", teachers, \"\\n\")\n",
        "print(\"Courses Dataset:\\n\", courses, \"\\n\")\n",
        "print(\"Merged Dataset (Inner Join):\\n\", merged_inner, \"\\n\")\n",
        "print(\"Merged Dataset (Left Join):\\n\", merged_left, \"\\n\")\n",
        "print(\"Average Courses per Teacher:\", avg_courses_per_teacher, \"\\n\")\n",
        "print(\"Department-wise Workload:\\n\", dept_workload, \"\\n\")\n",
        "print(\"Department with Highest Workload:\\n\", best_department, \"\\n\")\n",
        "print(\"Key Insights:\")\n",
        "print(f\"- On average, each teacher handles {avg_courses_per_teacher:.2f} courses.\")\n",
        "print(f\"- The busiest department is '{best_department['department']}' with {best_department['course_id']} courses assigned.\")"
      ],
      "metadata": {
        "colab": {
          "base_uri": "https://localhost:8080/"
        },
        "id": "qTIjA_9AFndr",
        "outputId": "d01e74eb-d14e-4154-de65-546bbd13216a"
      },
      "execution_count": 10,
      "outputs": [
        {
          "output_type": "stream",
          "name": "stdout",
          "text": [
            "Teachers Dataset:\n",
            "    teacher_id teacher_name        department\n",
            "0           1        Alice  Computer Science\n",
            "1           2          Bob       Mathematics\n",
            "2           3      Charlie           Physics\n",
            "3           4        David  Computer Science \n",
            "\n",
            "Courses Dataset:\n",
            "    course_id        course_name  teacher_id\n",
            "0        101                 AI           1\n",
            "1        102    Data Structures           1\n",
            "2        103            Algebra           2\n",
            "3        104  Quantum Mechanics           3\n",
            "4        105                 ML           1\n",
            "5        106           Calculus           2 \n",
            "\n",
            "Merged Dataset (Inner Join):\n",
            "    course_id        course_name  teacher_id teacher_name        department\n",
            "0        101                 AI           1        Alice  Computer Science\n",
            "1        102    Data Structures           1        Alice  Computer Science\n",
            "2        103            Algebra           2          Bob       Mathematics\n",
            "3        104  Quantum Mechanics           3      Charlie           Physics\n",
            "4        105                 ML           1        Alice  Computer Science\n",
            "5        106           Calculus           2          Bob       Mathematics \n",
            "\n",
            "Merged Dataset (Left Join):\n",
            "    course_id        course_name  teacher_id teacher_name        department\n",
            "0        101                 AI           1        Alice  Computer Science\n",
            "1        102    Data Structures           1        Alice  Computer Science\n",
            "2        103            Algebra           2          Bob       Mathematics\n",
            "3        104  Quantum Mechanics           3      Charlie           Physics\n",
            "4        105                 ML           1        Alice  Computer Science\n",
            "5        106           Calculus           2          Bob       Mathematics \n",
            "\n",
            "Average Courses per Teacher: 2.0 \n",
            "\n",
            "Department-wise Workload:\n",
            "          department  course_id\n",
            "0  Computer Science          3\n",
            "1       Mathematics          2\n",
            "2           Physics          1 \n",
            "\n",
            "Department with Highest Workload:\n",
            " department    Computer Science\n",
            "course_id                    3\n",
            "Name: 0, dtype: object \n",
            "\n",
            "Key Insights:\n",
            "- On average, each teacher handles 2.00 courses.\n",
            "- The busiest department is 'Computer Science' with 3 courses assigned.\n"
          ]
        }
      ]
    },
    {
      "cell_type": "code",
      "source": [],
      "metadata": {
        "id": "fv-9VS0AFngp"
      },
      "execution_count": null,
      "outputs": []
    },
    {
      "cell_type": "code",
      "source": [],
      "metadata": {
        "id": "BRZYhuzbFnlw"
      },
      "execution_count": null,
      "outputs": []
    }
  ]
}