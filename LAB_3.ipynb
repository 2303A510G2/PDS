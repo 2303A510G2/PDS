{
  "nbformat": 4,
  "nbformat_minor": 0,
  "metadata": {
    "colab": {
      "provenance": [],
      "authorship_tag": "ABX9TyPi0e6ygLrPlAz/U3fDrzCx",
      "include_colab_link": true
    },
    "kernelspec": {
      "name": "python3",
      "display_name": "Python 3"
    },
    "language_info": {
      "name": "python"
    }
  },
  "cells": [
    {
      "cell_type": "markdown",
      "metadata": {
        "id": "view-in-github",
        "colab_type": "text"
      },
      "source": [
        "<a href=\"https://colab.research.google.com/github/2303A510G2/PDS/blob/main/LAB_3.ipynb\" target=\"_parent\"><img src=\"https://colab.research.google.com/assets/colab-badge.svg\" alt=\"Open In Colab\"/></a>"
      ]
    },
    {
      "cell_type": "code",
      "execution_count": 1,
      "metadata": {
        "colab": {
          "base_uri": "https://localhost:8080/"
        },
        "id": "nv_rMfB3dnJV",
        "outputId": "18e6c141-a18e-4d63-9281-91c1210e83be"
      },
      "outputs": [
        {
          "output_type": "stream",
          "name": "stdout",
          "text": [
            "Matrix A:\n",
            " [[ 3 12  3]\n",
            " [12  3  6]\n",
            " [ 4  3 11]]\n",
            "\n",
            "Matrix B:\n",
            " [[18 15  3]\n",
            " [16  5 13]\n",
            " [15  3 15]]\n",
            "\n",
            "Matrix Addition (A + B):\n",
            " [[21 27  6]\n",
            " [28  8 19]\n",
            " [19  6 26]]\n",
            "\n",
            "Matrix Subtraction (A - B):\n",
            " [[-15  -3   0]\n",
            " [ -4  -2  -7]\n",
            " [-11   0  -4]]\n",
            "\n",
            "Verification at element position (row=2, col=3):\n",
            "A[1,2] = 6, B[1,2] = 13\n",
            "Addition check: 6 + 13 = 19 | From np.add: 19\n",
            "Subtraction check: 6 - 13 = -7 | From np.subtract: -7\n",
            "\n",
            "Note on Broadcasting:\n",
            "Since both matrices are of the same shape (3x3), no broadcasting is needed here.\n",
            "If one matrix had a compatible shape (like 1x3 or 3x1), broadcasting would apply.\n"
          ]
        }
      ],
      "source": [
        "# Matrix Addition and Subtraction using NumPy\n",
        "\n",
        "import numpy as np\n",
        "\n",
        "# Create two 3x3 NumPy arrays with random integers (range: 1-20 for clarity)\n",
        "A = np.random.randint(1, 21, size=(3, 3))\n",
        "B = np.random.randint(1, 21, size=(3, 3))\n",
        "\n",
        "print(\"Matrix A:\\n\", A)\n",
        "print(\"\\nMatrix B:\\n\", B)\n",
        "\n",
        "# Perform element-wise addition\n",
        "add_result = np.add(A, B)\n",
        "\n",
        "# Perform element-wise subtraction\n",
        "sub_result = np.subtract(A, B)\n",
        "\n",
        "print(\"\\nMatrix Addition (A + B):\\n\", add_result)\n",
        "print(\"\\nMatrix Subtraction (A - B):\\n\", sub_result)\n",
        "\n",
        "# Manual verification for one element\n",
        "i, j = 1, 2  # picking element at row=1, col=2 (2nd row, 3rd column)\n",
        "manual_add = A[i, j] + B[i, j]\n",
        "manual_sub = A[i, j] - B[i, j]\n",
        "\n",
        "print(f\"\\nVerification at element position (row={i+1}, col={j+1}):\")\n",
        "print(f\"A[{i},{j}] = {A[i,j]}, B[{i},{j}] = {B[i,j]}\")\n",
        "print(f\"Addition check: {A[i,j]} + {B[i,j]} = {manual_add} | From np.add: {add_result[i,j]}\")\n",
        "print(f\"Subtraction check: {A[i,j]} - {B[i,j]} = {manual_sub} | From np.subtract: {sub_result[i,j]}\")\n",
        "\n",
        "# Comment on broadcasting\n",
        "print(\"\\nNote on Broadcasting:\")\n",
        "print(\"Since both matrices are of the same shape (3x3), no broadcasting is needed here.\")\n",
        "print(\"If one matrix had a compatible shape (like 1x3 or 3x1), broadcasting would apply.\")\n"
      ]
    },
    {
      "cell_type": "code",
      "source": [
        "# 2D Matrix Multiplication (Dot Product) using NumPy\n",
        "\n",
        "import numpy as np\n",
        "import matplotlib.pyplot as plt\n",
        "\n",
        "# Step 1: Create two compatible matrices\n",
        "# Matrix A: 3x2\n",
        "A = np.random.randint(1, 10, size=(3, 2))\n",
        "# Matrix B: 2x3\n",
        "B = np.random.randint(1, 10, size=(2, 3))\n",
        "\n",
        "print(\"Matrix A (3x2):\\n\", A)\n",
        "print(\"\\nMatrix B (2x3):\\n\", B)\n",
        "\n",
        "# Step 2: Perform matrix multiplication (dot product)\n",
        "result = np.dot(A, B)   # or use A @ B\n",
        "\n",
        "print(\"\\nResult of A dot B (3x3):\\n\", result)\n",
        "\n",
        "# Step 3: Verify one element manually\n",
        "i, j = 1, 2   # element at row=1, col=2\n",
        "manual_calc = A[1,0]*B[0,2] + A[1,1]*B[1,2]\n",
        "\n",
        "print(f\"\\nManual Verification for element (row={i+1}, col={j+1}):\")\n",
        "print(f\"A[1,0]*B[0,2] + A[1,1]*B[1,2] = {A[1,0]}*{B[0,2]} + {A[1,1]}*{B[1,2]} = {manual_calc}\")\n",
        "print(f\"From np.dot: {result[i,j]}\")\n",
        "\n",
        "# Step 4: Real-world simulation (image transformation example)\n",
        "# Treat A as a \"pixel matrix\" (3 pixels with 2 features each),\n",
        "# and B as a \"filter matrix\" (transforming 2 features into 3 outputs).\n",
        "print(\"\\nSimulation:\")\n",
        "print(\"Matrix A can be seen as 3 pixels with 2 features (e.g., brightness & contrast).\")\n",
        "print(\"Matrix B acts like a filter transforming these 2 features into 3 new ones (e.g., RGB channels).\")\n",
        "print(\"The result (3x3) is transformed pixel data.\")\n",
        "\n",
        "# Step 5 (Optional): Visualization using matplotlib\n",
        "fig, axs = plt.subplots(1, 3, figsize=(12, 4))\n",
        "\n",
        "axs[0].imshow(A, cmap='Blues', aspect='auto')\n",
        "axs[0].set_title(\"Matrix A (3x2)\")\n",
        "axs[0].axis('off')\n",
        "\n",
        "axs[1].imshow(B, cmap='Greens', aspect='auto')\n",
        "axs[1].set_title(\"Matrix B (2x3)\")\n",
        "axs[1].axis('off')\n",
        "\n",
        "axs[2].imshow(result, cmap='Reds', aspect='auto')\n",
        "axs[2].set_title(\"Result (3x3)\")\n",
        "axs[2].axis('off')\n",
        "\n",
        "plt.show()\n"
      ],
      "metadata": {
        "colab": {
          "base_uri": "https://localhost:8080/",
          "height": 749
        },
        "id": "HuLfadTSeMSm",
        "outputId": "c1d44a58-b4bf-48de-efc6-e8f925c253d2"
      },
      "execution_count": 2,
      "outputs": [
        {
          "output_type": "stream",
          "name": "stdout",
          "text": [
            "Matrix A (3x2):\n",
            " [[5 7]\n",
            " [3 3]\n",
            " [4 3]]\n",
            "\n",
            "Matrix B (2x3):\n",
            " [[8 3 8]\n",
            " [4 9 8]]\n",
            "\n",
            "Result of A dot B (3x3):\n",
            " [[68 78 96]\n",
            " [36 36 48]\n",
            " [44 39 56]]\n",
            "\n",
            "Manual Verification for element (row=2, col=3):\n",
            "A[1,0]*B[0,2] + A[1,1]*B[1,2] = 3*8 + 3*8 = 48\n",
            "From np.dot: 48\n",
            "\n",
            "Simulation:\n",
            "Matrix A can be seen as 3 pixels with 2 features (e.g., brightness & contrast).\n",
            "Matrix B acts like a filter transforming these 2 features into 3 new ones (e.g., RGB channels).\n",
            "The result (3x3) is transformed pixel data.\n"
          ]
        },
        {
          "output_type": "display_data",
          "data": {
            "text/plain": [
              "<Figure size 1200x400 with 3 Axes>"
            ],
            "image/png": "[encoded data removed]"
          },
          "metadata": {}
        }
      ]
    }
  ]
}