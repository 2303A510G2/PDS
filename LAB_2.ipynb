{
  "nbformat": 4,
  "nbformat_minor": 0,
  "metadata": {
    "colab": {
      "provenance": [],
      "authorship_tag": "ABX9TyND9xoBfyFI9/uyzIks0jvu",
      "include_colab_link": true
    },
    "kernelspec": {
      "name": "python3",
      "display_name": "Python 3"
    },
    "language_info": {
      "name": "python"
    }
  },
  "cells": [
    {
      "cell_type": "markdown",
      "metadata": {
        "id": "view-in-github",
        "colab_type": "text"
      },
      "source": [
        "<a href=\"https://colab.research.google.com/github/2303A510G2/PDS/blob/main/LAB_2.ipynb\" target=\"_parent\"><img src=\"https://colab.research.google.com/assets/colab-badge.svg\" alt=\"Open In Colab\"/></a>"
      ]
    },
    {
      "cell_type": "code",
      "execution_count": 1,
      "metadata": {
        "colab": {
          "base_uri": "https://localhost:8080/"
        },
        "id": "6qp4EfnuJQeC",
        "outputId": "5276f3ad-b4a9-49b9-d999-205e23403898"
      },
      "outputs": [
        {
          "output_type": "stream",
          "name": "stdout",
          "text": [
            "Enter total number of people (n): 3\n",
            "Enter number of places (r): 2\n",
            "\n",
            "--- Step-by-Step Calculation ---\n",
            "3P2 = n! / (n - r)!\n",
            "3! = 3 × 2 × 1 = 6\n",
            "(3 - 2)! = 1 = 1\n",
            "\n",
            "Permutation: 3P2 = 6 / 1 = 6\n",
            "\n",
            "Do you want to simulate seating arrangements? (y/n): y\n",
            "\n",
            "Possible seating arrangements (6 total):\n",
            "1: ('Person1', 'Person2')\n",
            "2: ('Person1', 'Person3')\n",
            "3: ('Person2', 'Person1')\n",
            "4: ('Person2', 'Person3')\n",
            "5: ('Person3', 'Person1')\n",
            "6: ('Person3', 'Person2')\n"
          ]
        }
      ],
      "source": [
        "def factorial(n):\n",
        "    if n == 0 or n == 1:\n",
        "        return 1\n",
        "    else:\n",
        "        return n * factorial(n - 1)\n",
        "\n",
        "def factorial_steps(n):\n",
        "    if n == 0 or n == 1:\n",
        "        return \"1\"\n",
        "    else:\n",
        "        return f\"{n} × \" + factorial_steps(n - 1)\n",
        "\n",
        "def permutations(n, r):\n",
        "    return factorial(n) // factorial(n - r)\n",
        "\n",
        "def seating_simulation(people, places):\n",
        "    from itertools import permutations as it_permutations\n",
        "    arrangements = list(it_permutations(people, places))\n",
        "    print(f\"\\nPossible seating arrangements ({len(arrangements)} total):\")\n",
        "    for i, arr in enumerate(arrangements, start=1):\n",
        "        print(f\"{i}: {arr}\")\n",
        "\n",
        "try:\n",
        "    n = int(input(\"Enter total number of people (n): \"))\n",
        "    r = int(input(\"Enter number of places (r): \"))\n",
        "\n",
        "    if n < r or n < 0 or r < 0:\n",
        "        print(\"Error: n must be greater than or equal to r, and both should be non-negative.\")\n",
        "    else:\n",
        "        print(\"\\n--- Step-by-Step Calculation ---\")\n",
        "        print(f\"{n}P{r} = n! / (n - r)!\")\n",
        "        print(f\"{n}! = {factorial_steps(n)} = {factorial(n)}\")\n",
        "        print(f\"({n} - {r})! = {factorial_steps(n - r)} = {factorial(n - r)}\")\n",
        "\n",
        "        result = permutations(n, r)\n",
        "        print(f\"\\nPermutation: {n}P{r} = {factorial(n)} / {factorial(n - r)} = {result}\")\n",
        "\n",
        "        choice = input(\"\\nDo you want to simulate seating arrangements? (y/n): \").lower()\n",
        "        if choice == \"y\":\n",
        "            people_list = [f\"Person{i+1}\" for i in range(n)]\n",
        "            seating_simulation(people_list, r)\n",
        "\n",
        "except ValueError:\n",
        "    print(\"Invalid input! Please enter integers only.\")\n"
      ]
    },
    {
      "cell_type": "code",
      "source": [
        "import sys\n",
        "import matplotlib.pyplot as plt\n",
        "\n",
        "def recursive_factorial(n):\n",
        "    if n == 0 or n == 1:\n",
        "        return 1\n",
        "    else:\n",
        "        return n * recursive_factorial(n - 1)\n",
        "\n",
        "def iterative_factorial(n):\n",
        "    result = 1\n",
        "    for i in range(2, n+1):\n",
        "        result *= i\n",
        "    return result\n",
        "\n",
        "def factorial_growth_plot(max_n):\n",
        "    values = [iterative_factorial(i) for i in range(1, max_n+1)]\n",
        "    plt.figure(figsize=(8, 5))\n",
        "    plt.plot(range(1, max_n+1), values, marker='o')\n",
        "    plt.yscale(\"log\")\n",
        "    plt.xlabel(\"n\")\n",
        "    plt.ylabel(\"n! (log scale)\")\n",
        "    plt.title(\"Factorial Growth\")\n",
        "    plt.grid(True)\n",
        "    plt.show()\n",
        "\n",
        "try:\n",
        "    print(f\"Maximum recursion depth in Python: {sys.getrecursionlimit()}\")\n",
        "    n = int(input(\"Enter a number to compute factorial: \"))\n",
        "\n",
        "    if n < 0:\n",
        "        print(\"Error: Factorial is not defined for negative numbers.\")\n",
        "    elif n > 998:\n",
        "        print(\"Warning: n is close to or exceeds Python’s recursion limit. Recursive method may fail.\")\n",
        "\n",
        "    print(\"\\n--- Recursive Method ---\")\n",
        "    try:\n",
        "        rec_result = recursive_factorial(n)\n",
        "        print(f\"Recursive factorial of {n} = {rec_result}\")\n",
        "    except RecursionError:\n",
        "        print(f\"RecursionError: Cannot compute factorial({n}) due to recursion depth limit.\")\n",
        "\n",
        "    print(\"\\n--- Iterative Method ---\")\n",
        "    iter_result = iterative_factorial(n)\n",
        "    print(f\"Iterative factorial of {n} = {iter_result}\")\n",
        "\n",
        "    choice = input(\"\\nDo you want to plot factorial growth? (y/n): \").lower()\n",
        "    if choice == \"y\":\n",
        "        limit_for_plot = int(input(\"Enter max n for plot (e.g., 20): \"))\n",
        "        factorial_growth_plot(limit_for_plot)\n",
        "\n",
        "except ValueError:\n",
        "    print(\"Invalid input! Please enter integers only.\")\n"
      ],
      "metadata": {
        "colab": {
          "base_uri": "https://localhost:8080/",
          "height": 678
        },
        "id": "w5GOZfS1KUy7",
        "outputId": "51300eb2-d739-4169-bb7b-fe31f9806ff1"
      },
      "execution_count": 2,
      "outputs": [
        {
          "name": "stdout",
          "output_type": "stream",
          "text": [
            "Maximum recursion depth in Python: 1000\n",
            "Enter a number to compute factorial: 34\n",
            "\n",
            "--- Recursive Method ---\n",
            "Recursive factorial of 34 = 295232799039604140847618609643520000000\n",
            "\n",
            "--- Iterative Method ---\n",
            "Iterative factorial of 34 = 295232799039604140847618609643520000000\n",
            "\n",
            "Do you want to plot factorial growth? (y/n): y\n",
            "Enter max n for plot (e.g., 20): 20\n"
          ]
        },
        {
          "output_type": "display_data",
          "data": {
            "text/plain": [
              "<Figure size 800x500 with 1 Axes>"
            ],
            "image/png": "[encoded data removed]"
          },
          "metadata": {}
        }
      ]
    }
  ]
}